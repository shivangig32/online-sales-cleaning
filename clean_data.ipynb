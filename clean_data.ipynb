{
 "cells": [
  {
   "cell_type": "code",
   "execution_count": 7,
   "id": "17d3db6f-2485-40a5-aa0a-0a6b4c47c43f",
   "metadata": {},
   "outputs": [],
   "source": [
    "import pandas as pd\n"
   ]
  },
  {
   "cell_type": "code",
   "execution_count": 8,
   "id": "c7049aed-69f0-42e6-b051-40a2d1c24cca",
   "metadata": {},
   "outputs": [],
   "source": [
    "# step1: load the dataset"
   ]
  },
  {
   "cell_type": "code",
   "execution_count": 9,
   "id": "67af9df2-b761-4fb0-9566-7e8b556056b9",
   "metadata": {},
   "outputs": [],
   "source": [
    "df=pd.read_csv(\"Online Sales Data Task 1.csv\")"
   ]
  },
  {
   "cell_type": "code",
   "execution_count": 10,
   "id": "cd6e98bb-a210-49c5-ac6b-f3cdafd7847b",
   "metadata": {},
   "outputs": [
    {
     "name": "stdout",
     "output_type": "stream",
     "text": [
      "step1: Data loaded\n"
     ]
    },
    {
     "data": {
      "text/html": [
       "<div>\n",
       "<style scoped>\n",
       "    .dataframe tbody tr th:only-of-type {\n",
       "        vertical-align: middle;\n",
       "    }\n",
       "\n",
       "    .dataframe tbody tr th {\n",
       "        vertical-align: top;\n",
       "    }\n",
       "\n",
       "    .dataframe thead th {\n",
       "        text-align: right;\n",
       "    }\n",
       "</style>\n",
       "<table border=\"1\" class=\"dataframe\">\n",
       "  <thead>\n",
       "    <tr style=\"text-align: right;\">\n",
       "      <th></th>\n",
       "      <th>Transaction ID</th>\n",
       "      <th>Date</th>\n",
       "      <th>Product Category</th>\n",
       "      <th>Product Name</th>\n",
       "      <th>Units Sold</th>\n",
       "      <th>Unit Price</th>\n",
       "      <th>Total Revenue</th>\n",
       "      <th>Region</th>\n",
       "      <th>Payment Method</th>\n",
       "    </tr>\n",
       "  </thead>\n",
       "  <tbody>\n",
       "    <tr>\n",
       "      <th>0</th>\n",
       "      <td>10001</td>\n",
       "      <td>2024-01-01</td>\n",
       "      <td>Electronics</td>\n",
       "      <td>iPhone 14 Pro</td>\n",
       "      <td>2</td>\n",
       "      <td>999.99</td>\n",
       "      <td>1999.98</td>\n",
       "      <td>North America</td>\n",
       "      <td>Credit Card</td>\n",
       "    </tr>\n",
       "    <tr>\n",
       "      <th>1</th>\n",
       "      <td>10002</td>\n",
       "      <td>2024-01-02</td>\n",
       "      <td>Home Appliances</td>\n",
       "      <td>Dyson V11 Vacuum</td>\n",
       "      <td>1</td>\n",
       "      <td>499.99</td>\n",
       "      <td>499.99</td>\n",
       "      <td>Europe</td>\n",
       "      <td>PayPal</td>\n",
       "    </tr>\n",
       "    <tr>\n",
       "      <th>2</th>\n",
       "      <td>10003</td>\n",
       "      <td>2024-01-03</td>\n",
       "      <td>Clothing</td>\n",
       "      <td>Levi's 501 Jeans</td>\n",
       "      <td>3</td>\n",
       "      <td>69.99</td>\n",
       "      <td>209.97</td>\n",
       "      <td>Asia</td>\n",
       "      <td>Debit Card</td>\n",
       "    </tr>\n",
       "    <tr>\n",
       "      <th>3</th>\n",
       "      <td>10004</td>\n",
       "      <td>2024-01-04</td>\n",
       "      <td>Books</td>\n",
       "      <td>The Da Vinci Code</td>\n",
       "      <td>4</td>\n",
       "      <td>15.99</td>\n",
       "      <td>63.96</td>\n",
       "      <td>North America</td>\n",
       "      <td>Credit Card</td>\n",
       "    </tr>\n",
       "    <tr>\n",
       "      <th>4</th>\n",
       "      <td>10005</td>\n",
       "      <td>2024-01-05</td>\n",
       "      <td>Beauty Products</td>\n",
       "      <td>Neutrogena Skincare Set</td>\n",
       "      <td>1</td>\n",
       "      <td>89.99</td>\n",
       "      <td>89.99</td>\n",
       "      <td>Europe</td>\n",
       "      <td>PayPal</td>\n",
       "    </tr>\n",
       "  </tbody>\n",
       "</table>\n",
       "</div>"
      ],
      "text/plain": [
       "   Transaction ID        Date Product Category             Product Name  \\\n",
       "0           10001  2024-01-01      Electronics            iPhone 14 Pro   \n",
       "1           10002  2024-01-02  Home Appliances         Dyson V11 Vacuum   \n",
       "2           10003  2024-01-03         Clothing         Levi's 501 Jeans   \n",
       "3           10004  2024-01-04            Books        The Da Vinci Code   \n",
       "4           10005  2024-01-05  Beauty Products  Neutrogena Skincare Set   \n",
       "\n",
       "   Units Sold  Unit Price  Total Revenue         Region Payment Method  \n",
       "0           2      999.99        1999.98  North America    Credit Card  \n",
       "1           1      499.99         499.99         Europe         PayPal  \n",
       "2           3       69.99         209.97           Asia     Debit Card  \n",
       "3           4       15.99          63.96  North America    Credit Card  \n",
       "4           1       89.99          89.99         Europe         PayPal  "
      ]
     },
     "metadata": {},
     "output_type": "display_data"
    }
   ],
   "source": [
    "print(\"step1: Data loaded\")\n",
    "display(df.head())"
   ]
  },
  {
   "cell_type": "code",
   "execution_count": 11,
   "id": "90876682-3033-4a8c-b3ae-224a3dbb5b2c",
   "metadata": {},
   "outputs": [
    {
     "name": "stdout",
     "output_type": "stream",
     "text": [
      "missing values:\n",
      " Transaction ID      0\n",
      "Date                0\n",
      "Product Category    0\n",
      "Product Name        0\n",
      "Units Sold          0\n",
      "Unit Price          0\n",
      "Total Revenue       0\n",
      "Region              0\n",
      "Payment Method      0\n",
      "dtype: int64\n"
     ]
    }
   ],
   "source": [
    "#  step2:checking the missing values\n",
    "print(\"missing values:\\n\",df.isnull().sum())"
   ]
  },
  {
   "cell_type": "code",
   "execution_count": 12,
   "id": "21b43a43-dbcd-44e9-9c2e-6bfa295b00ac",
   "metadata": {},
   "outputs": [],
   "source": [
    "#step3: Removing the Duplicates"
   ]
  },
  {
   "cell_type": "code",
   "execution_count": 13,
   "id": "0232212a-08af-449c-9702-5ef2beb3bdb8",
   "metadata": {},
   "outputs": [
    {
     "name": "stdout",
     "output_type": "stream",
     "text": [
      "\n",
      "step 3: 0 duplicate rows removed.\n"
     ]
    }
   ],
   "source": [
    "before=df.shape[0]\n",
    "df=df.drop_duplicates()\n",
    "after=df.shape[0]\n",
    "print(f\"\\nstep 3: {before - after} duplicate rows removed.\")"
   ]
  },
  {
   "cell_type": "code",
   "execution_count": 14,
   "id": "b9ee4a07-bc6d-4607-8706-d64e3bf76367",
   "metadata": {},
   "outputs": [],
   "source": [
    "#step4: standardize text columns"
   ]
  },
  {
   "cell_type": "code",
   "execution_count": 15,
   "id": "85a112e9-25ac-4449-bf25-a58669ef87ac",
   "metadata": {},
   "outputs": [
    {
     "name": "stdout",
     "output_type": "stream",
     "text": [
      "\n",
      "Step 4: Standardized text sample\n"
     ]
    },
    {
     "data": {
      "text/html": [
       "<div>\n",
       "<style scoped>\n",
       "    .dataframe tbody tr th:only-of-type {\n",
       "        vertical-align: middle;\n",
       "    }\n",
       "\n",
       "    .dataframe tbody tr th {\n",
       "        vertical-align: top;\n",
       "    }\n",
       "\n",
       "    .dataframe thead th {\n",
       "        text-align: right;\n",
       "    }\n",
       "</style>\n",
       "<table border=\"1\" class=\"dataframe\">\n",
       "  <thead>\n",
       "    <tr style=\"text-align: right;\">\n",
       "      <th></th>\n",
       "      <th>Region</th>\n",
       "      <th>Payment Method</th>\n",
       "      <th>Product Category</th>\n",
       "    </tr>\n",
       "  </thead>\n",
       "  <tbody>\n",
       "    <tr>\n",
       "      <th>0</th>\n",
       "      <td>North America</td>\n",
       "      <td>Credit Card</td>\n",
       "      <td>Electronics</td>\n",
       "    </tr>\n",
       "    <tr>\n",
       "      <th>1</th>\n",
       "      <td>Europe</td>\n",
       "      <td>Paypal</td>\n",
       "      <td>Home Appliances</td>\n",
       "    </tr>\n",
       "    <tr>\n",
       "      <th>2</th>\n",
       "      <td>Asia</td>\n",
       "      <td>Debit Card</td>\n",
       "      <td>Clothing</td>\n",
       "    </tr>\n",
       "    <tr>\n",
       "      <th>3</th>\n",
       "      <td>North America</td>\n",
       "      <td>Credit Card</td>\n",
       "      <td>Books</td>\n",
       "    </tr>\n",
       "    <tr>\n",
       "      <th>4</th>\n",
       "      <td>Europe</td>\n",
       "      <td>Paypal</td>\n",
       "      <td>Beauty Products</td>\n",
       "    </tr>\n",
       "  </tbody>\n",
       "</table>\n",
       "</div>"
      ],
      "text/plain": [
       "          Region Payment Method Product Category\n",
       "0  North America    Credit Card      Electronics\n",
       "1         Europe         Paypal  Home Appliances\n",
       "2           Asia     Debit Card         Clothing\n",
       "3  North America    Credit Card            Books\n",
       "4         Europe         Paypal  Beauty Products"
      ]
     },
     "metadata": {},
     "output_type": "display_data"
    }
   ],
   "source": [
    "# Step 4: Standardize text values\n",
    "for col in ['Region', 'Payment Method', 'Product Category']:\n",
    "    df[col] = df[col].astype(str).str.strip().str.title()\n",
    "print(\"\\nStep 4: Standardized text sample\")\n",
    "display(df[['Region', 'Payment Method', 'Product Category']].drop_duplicates().head())\n",
    "\n"
   ]
  },
  {
   "cell_type": "code",
   "execution_count": 26,
   "id": "986d13a0-1837-4ed5-a886-9542f601c3d2",
   "metadata": {},
   "outputs": [
    {
     "name": "stdout",
     "output_type": "stream",
     "text": [
      "\n",
      "Step 5: Converted date format\n"
     ]
    },
    {
     "data": {
      "text/plain": [
       "0    01-01-2024\n",
       "1    02-01-2024\n",
       "2    03-01-2024\n",
       "3    04-01-2024\n",
       "4    05-01-2024\n",
       "Name: Date, dtype: object"
      ]
     },
     "metadata": {},
     "output_type": "display_data"
    }
   ],
   "source": [
    "# Step 5: Convert date format\n",
    "df['Date'] = pd.to_datetime(df['Date'], errors='coerce')\n",
    "df['Date'] = df['Date'].dt.strftime('%d-%m-%Y')\n",
    "print(\"\\nStep 5: Converted date format\")\n",
    "display(df['Date'].head())\n"
   ]
  },
  {
   "cell_type": "code",
   "execution_count": 28,
   "id": "17b8e7d0-77d0-4454-82ca-9a4c9da25e06",
   "metadata": {},
   "outputs": [
    {
     "name": "stdout",
     "output_type": "stream",
     "text": [
      "\n",
      "Step 6: Renamed columns\n",
      "['transaction_id', 'date', 'product_category', 'product_name', 'units_sold', 'unit_price', 'total_revenue', 'region', 'payment_method']\n"
     ]
    }
   ],
   "source": [
    "# Step 6: Rename columns\n",
    "df.columns = df.columns.str.strip().str.lower().str.replace(' ', '_')\n",
    "print(\"\\nStep 6: Renamed columns\")\n",
    "print(df.columns.tolist())"
   ]
  },
  {
   "cell_type": "code",
   "execution_count": 30,
   "id": "15b92496-1d0a-45a7-b434-b33c641f083a",
   "metadata": {},
   "outputs": [
    {
     "name": "stdout",
     "output_type": "stream",
     "text": [
      "\n",
      "Step 7: Fixed data types\n",
      "transaction_id               int32\n",
      "date                datetime64[ns]\n",
      "product_category            object\n",
      "product_name                object\n",
      "units_sold                   int32\n",
      "unit_price                 float64\n",
      "total_revenue              float64\n",
      "region                      object\n",
      "payment_method              object\n",
      "dtype: object\n"
     ]
    }
   ],
   "source": [
    "# Step 7: Fix data types\n",
    "df['transaction_id'] = df['transaction_id'].astype(int)\n",
    "df['units_sold'] = df['units_sold'].astype(int)\n",
    "df['unit_price'] = df['unit_price'].astype(float)\n",
    "df['total_revenue'] = df['total_revenue'].astype(float)\n",
    "df['date'] = pd.to_datetime(df['date'], format='%d-%m-%Y')\n",
    "print(\"\\nStep 7: Fixed data types\")\n",
    "print(df.dtypes)"
   ]
  },
  {
   "cell_type": "code",
   "execution_count": 32,
   "id": "11ca0f21-ed1b-492b-9238-f407e9d87656",
   "metadata": {},
   "outputs": [
    {
     "name": "stdout",
     "output_type": "stream",
     "text": [
      "\n",
      "Step 8: Revenue match check\n",
      "revenue_match\n",
      "True    240\n",
      "Name: count, dtype: int64\n"
     ]
    }
   ],
   "source": [
    "# Step 8: Check calculated revenue\n",
    "df['calculated_revenue'] = (df['units_sold'] * df['unit_price']).round(2)\n",
    "df['revenue_match'] = df['calculated_revenue'] == df['total_revenue'].round(2)\n",
    "print(\"\\nStep 8: Revenue match check\")\n",
    "print(df['revenue_match'].value_counts())"
   ]
  },
  {
   "cell_type": "code",
   "execution_count": 34,
   "id": "72560c09-ae4d-4c53-aeb1-6268612f59cd",
   "metadata": {},
   "outputs": [
    {
     "name": "stdout",
     "output_type": "stream",
     "text": [
      "\n",
      "Step 9: Cleaned file saved as Online_Sales_Data_Cleaned.csv\n"
     ]
    }
   ],
   "source": [
    "# Step 9: Save cleaned file\n",
    "df.to_csv(\"Online_Sales_Data_Cleaned.csv\", index=False)\n",
    "print(\"\\nStep 9: Cleaned file saved as Online_Sales_Data_Cleaned.csv\")"
   ]
  },
  {
   "cell_type": "code",
   "execution_count": 36,
   "id": "347aae4c-33a1-4629-99a2-0c945d72e9a6",
   "metadata": {},
   "outputs": [
    {
     "name": "stdout",
     "output_type": "stream",
     "text": [
      "\n",
      "Step 10: Final preview\n"
     ]
    },
    {
     "data": {
      "text/html": [
       "<div>\n",
       "<style scoped>\n",
       "    .dataframe tbody tr th:only-of-type {\n",
       "        vertical-align: middle;\n",
       "    }\n",
       "\n",
       "    .dataframe tbody tr th {\n",
       "        vertical-align: top;\n",
       "    }\n",
       "\n",
       "    .dataframe thead th {\n",
       "        text-align: right;\n",
       "    }\n",
       "</style>\n",
       "<table border=\"1\" class=\"dataframe\">\n",
       "  <thead>\n",
       "    <tr style=\"text-align: right;\">\n",
       "      <th></th>\n",
       "      <th>transaction_id</th>\n",
       "      <th>date</th>\n",
       "      <th>product_category</th>\n",
       "      <th>product_name</th>\n",
       "      <th>units_sold</th>\n",
       "      <th>unit_price</th>\n",
       "      <th>total_revenue</th>\n",
       "      <th>region</th>\n",
       "      <th>payment_method</th>\n",
       "      <th>calculated_revenue</th>\n",
       "      <th>revenue_match</th>\n",
       "    </tr>\n",
       "  </thead>\n",
       "  <tbody>\n",
       "    <tr>\n",
       "      <th>0</th>\n",
       "      <td>10001</td>\n",
       "      <td>2024-01-01</td>\n",
       "      <td>Electronics</td>\n",
       "      <td>iPhone 14 Pro</td>\n",
       "      <td>2</td>\n",
       "      <td>999.99</td>\n",
       "      <td>1999.98</td>\n",
       "      <td>North America</td>\n",
       "      <td>Credit Card</td>\n",
       "      <td>1999.98</td>\n",
       "      <td>True</td>\n",
       "    </tr>\n",
       "    <tr>\n",
       "      <th>1</th>\n",
       "      <td>10002</td>\n",
       "      <td>2024-01-02</td>\n",
       "      <td>Home Appliances</td>\n",
       "      <td>Dyson V11 Vacuum</td>\n",
       "      <td>1</td>\n",
       "      <td>499.99</td>\n",
       "      <td>499.99</td>\n",
       "      <td>Europe</td>\n",
       "      <td>Paypal</td>\n",
       "      <td>499.99</td>\n",
       "      <td>True</td>\n",
       "    </tr>\n",
       "    <tr>\n",
       "      <th>2</th>\n",
       "      <td>10003</td>\n",
       "      <td>2024-01-03</td>\n",
       "      <td>Clothing</td>\n",
       "      <td>Levi's 501 Jeans</td>\n",
       "      <td>3</td>\n",
       "      <td>69.99</td>\n",
       "      <td>209.97</td>\n",
       "      <td>Asia</td>\n",
       "      <td>Debit Card</td>\n",
       "      <td>209.97</td>\n",
       "      <td>True</td>\n",
       "    </tr>\n",
       "    <tr>\n",
       "      <th>3</th>\n",
       "      <td>10004</td>\n",
       "      <td>2024-01-04</td>\n",
       "      <td>Books</td>\n",
       "      <td>The Da Vinci Code</td>\n",
       "      <td>4</td>\n",
       "      <td>15.99</td>\n",
       "      <td>63.96</td>\n",
       "      <td>North America</td>\n",
       "      <td>Credit Card</td>\n",
       "      <td>63.96</td>\n",
       "      <td>True</td>\n",
       "    </tr>\n",
       "    <tr>\n",
       "      <th>4</th>\n",
       "      <td>10005</td>\n",
       "      <td>2024-01-05</td>\n",
       "      <td>Beauty Products</td>\n",
       "      <td>Neutrogena Skincare Set</td>\n",
       "      <td>1</td>\n",
       "      <td>89.99</td>\n",
       "      <td>89.99</td>\n",
       "      <td>Europe</td>\n",
       "      <td>Paypal</td>\n",
       "      <td>89.99</td>\n",
       "      <td>True</td>\n",
       "    </tr>\n",
       "  </tbody>\n",
       "</table>\n",
       "</div>"
      ],
      "text/plain": [
       "   transaction_id       date product_category             product_name  \\\n",
       "0           10001 2024-01-01      Electronics            iPhone 14 Pro   \n",
       "1           10002 2024-01-02  Home Appliances         Dyson V11 Vacuum   \n",
       "2           10003 2024-01-03         Clothing         Levi's 501 Jeans   \n",
       "3           10004 2024-01-04            Books        The Da Vinci Code   \n",
       "4           10005 2024-01-05  Beauty Products  Neutrogena Skincare Set   \n",
       "\n",
       "   units_sold  unit_price  total_revenue         region payment_method  \\\n",
       "0           2      999.99        1999.98  North America    Credit Card   \n",
       "1           1      499.99         499.99         Europe         Paypal   \n",
       "2           3       69.99         209.97           Asia     Debit Card   \n",
       "3           4       15.99          63.96  North America    Credit Card   \n",
       "4           1       89.99          89.99         Europe         Paypal   \n",
       "\n",
       "   calculated_revenue  revenue_match  \n",
       "0             1999.98           True  \n",
       "1              499.99           True  \n",
       "2              209.97           True  \n",
       "3               63.96           True  \n",
       "4               89.99           True  "
      ]
     },
     "metadata": {},
     "output_type": "display_data"
    }
   ],
   "source": [
    "# Step 10: Preview final data\n",
    "print(\"\\nStep 10: Final preview\")\n",
    "display(df.head())"
   ]
  },
  {
   "cell_type": "code",
   "execution_count": null,
   "id": "cd6ec518-bd96-4bb6-9825-f29ac87a3fa0",
   "metadata": {},
   "outputs": [],
   "source": []
  }
 ],
 "metadata": {
  "kernelspec": {
   "display_name": "Python 3 (ipykernel)",
   "language": "python",
   "name": "python3"
  },
  "language_info": {
   "codemirror_mode": {
    "name": "ipython",
    "version": 3
   },
   "file_extension": ".py",
   "mimetype": "text/x-python",
   "name": "python",
   "nbconvert_exporter": "python",
   "pygments_lexer": "ipython3",
   "version": "3.11.7"
  }
 },
 "nbformat": 4,
 "nbformat_minor": 5
}
